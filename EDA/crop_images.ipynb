{
 "cells": [
  {
   "cell_type": "markdown",
   "id": "0a7fa2e0-ef9a-4ae4-91bc-900d555fdc0a",
   "metadata": {},
   "source": [
    "### This file crops the fish eyes from the overall images and stores them in folders according to their class."
   ]
  },
  {
   "cell_type": "code",
   "execution_count": 1,
   "id": "edf6eae7-7cae-43a9-80e8-a76ad0b9f0c3",
   "metadata": {
    "tags": []
   },
   "outputs": [],
   "source": [
    "import os\n",
    "from xml.etree import ElementTree as ET\n",
    "from PIL import Image\n",
    "\n",
    "def parse_xml(xml_file):\n",
    "    tree = ET.parse(xml_file)\n",
    "    root = tree.getroot()\n",
    "\n",
    "    filename = root.find('filename').text\n",
    "    objects = root.findall('.//object')\n",
    "\n",
    "    annotations = []\n",
    "    for obj in objects:\n",
    "        class_name = obj.find('name').text\n",
    "        bbox = obj.find('bndbox')\n",
    "        xmin = int(bbox.find('xmin').text)\n",
    "        ymin = int(bbox.find('ymin').text)\n",
    "        xmax = int(bbox.find('xmax').text)\n",
    "        ymax = int(bbox.find('ymax').text)\n",
    "\n",
    "        annotations.append({\n",
    "            'class': class_name,\n",
    "            'bbox': (xmin, ymin, xmax, ymax)\n",
    "        })\n",
    "\n",
    "    return filename, annotations\n",
    "\n",
    "def crop_and_save_image(image_path, output_folder, filename, annotations):\n",
    "    img = Image.open(image_path)\n",
    "    for annotation in annotations:\n",
    "        class_name = annotation['class']\n",
    "        bbox = annotation['bbox']\n",
    "        cropped_img = img.crop(bbox)\n",
    "\n",
    "        class_folder = os.path.join(output_folder, class_name)\n",
    "        os.makedirs(class_folder, exist_ok=True)\n",
    "\n",
    "        save_path = os.path.join(class_folder, f\"{filename}_{class_name}.jpg\")\n",
    "        cropped_img.save(save_path)\n",
    "\n",
    "if __name__ == \"__main__\":\n",
    "    input_folder = \"./fish_class_3.v1i.voc/train/\"  # Replace with the path to your folder\n",
    "    output_folder = \"./cropped_folder/\"  # Replace with the path to your output folder\n",
    "\n",
    "    for xml_file in os.listdir(input_folder):\n",
    "        if xml_file.endswith(\".xml\"):\n",
    "            xml_path = os.path.join(input_folder, xml_file)\n",
    "            image_filename, annotations = parse_xml(xml_path)\n",
    "\n",
    "            image_path = os.path.join(input_folder, image_filename)\n",
    "            crop_and_save_image(image_path, output_folder, image_filename, annotations)\n"
   ]
  }
 ],
 "metadata": {
  "kernelspec": {
   "display_name": "Python 3 (ipykernel)",
   "language": "python",
   "name": "python3"
  },
  "language_info": {
   "codemirror_mode": {
    "name": "ipython",
    "version": 3
   },
   "file_extension": ".py",
   "mimetype": "text/x-python",
   "name": "python",
   "nbconvert_exporter": "python",
   "pygments_lexer": "ipython3",
   "version": "3.11.5"
  }
 },
 "nbformat": 4,
 "nbformat_minor": 5
}
